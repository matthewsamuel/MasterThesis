{
 "cells": [
  {
   "cell_type": "markdown",
   "metadata": {},
   "source": [
    "# Kriging and Shapley Value Computation on Geohash Level\n",
    "\n",
    "**Author**: Matthew Samuel  \n",
    "**Date**: June 2025\n",
    "\n",
    "## Description\n",
    "\n",
    "This Jupyter Notebook performs Kriging interpolation and data valuation using Shapley values at the **GeoHash level** (Scenario 1). The analysis is conducted using a parallelized framework based on Dask to efficiently process a large number of targets.\n",
    "\n",
    "For each selected Geohash (target):\n",
    "- A Kriging prediction is computed using spatially neighboring cells.\n",
    "- The model then evaluates the contribution of each neighbor through **Shapley values**, approximated using **Truncated Structured Sampling (TSS)**.\n",
    "\n",
    "The notebook supports **batch processing of multiple target Geohashes**. The final results are compiled into a CSV file and saved in the `/Output` directory.\n",
    "\n",
    "Additionally, summary plots and graphs are generated at the end to aid in interpretation and visualization of the interpolation and data valuation results."
   ]
  },
  {
   "cell_type": "code",
   "execution_count": 1,
   "metadata": {},
   "outputs": [
    {
     "data": {
      "text/plain": [
       "<module 'FrameworkGEO' from '/Users/matthewsamuel1/Desktop/madrid/SHAPwithEVENTS/shapely/geohashLevel/FrameworkGEO.py'>"
      ]
     },
     "execution_count": 1,
     "metadata": {},
     "output_type": "execute_result"
    }
   ],
   "source": [
    "# imports\n",
    "import pandas as pd\n",
    "import numpy as np\n",
    "import time\n",
    "import importlib\n",
    "from dask.distributed import Client\n",
    "import matplotlib.pyplot as plt\n",
    "import matplotlib.ticker as mtick\n",
    "\n",
    "import config\n",
    "import FrameworkGEO as fw\n",
    "importlib.reload(fw)"
   ]
  },
  {
   "cell_type": "code",
   "execution_count": 2,
   "metadata": {},
   "outputs": [
    {
     "name": "stdout",
     "output_type": "stream",
     "text": [
      "Dask dashboard: http://127.0.0.1:8787/status\n"
     ]
    }
   ],
   "source": [
    "client = Client(n_workers=8, threads_per_worker=1, memory_limit='3.5GB')\n",
    "config.daskClient = client\n",
    "print(\"Dask dashboard:\", client.dashboard_link)"
   ]
  },
  {
   "cell_type": "code",
   "execution_count": 3,
   "metadata": {},
   "outputs": [],
   "source": [
    "input             = \"input/input_data_1m.csv\"                   # Path to test data \n",
    "missing_geohashes = \"input/Madrid_centro_missing_ghashes.csv\"   # Path to missing geohashes \n",
    "groundtruth       = \"input/groundtruth_12m.csv\"                 # Path to ground truth \n",
    "\n",
    "sel_freq = \"1800\"                                               # Frequency band (e.g., LTE-1800)\n",
    "empty_geohashes_to_predict = 1                                  # Number of empty geohashes to predict"
   ]
  },
  {
   "cell_type": "code",
   "execution_count": 4,
   "metadata": {},
   "outputs": [],
   "source": [
    "# initialize combinder and scatter heavy objects\n",
    "combiner = fw.KrigingDataCombination(input_path=input,missing_geohashes=missing_geohashes,sel_freq=\"1800\")\n",
    "combiner_fut = client.scatter(combiner, broadcast=True)\n",
    "val_fn = fw.KrigingValueFunction(ground_truth_path=groundtruth)\n",
    "val_fn_fut = client.scatter(val_fn, broadcast=True)"
   ]
  },
  {
   "cell_type": "code",
   "execution_count": null,
   "metadata": {},
   "outputs": [],
   "source": [
    "print(combiner.df1.head()) \n",
    "combiner.df1.count()"
   ]
  },
  {
   "cell_type": "code",
   "execution_count": null,
   "metadata": {},
   "outputs": [],
   "source": [
    "print(combiner.df2.head())\n",
    "combiner.df2.count()\n"
   ]
  },
  {
   "cell_type": "code",
   "execution_count": 5,
   "metadata": {},
   "outputs": [],
   "source": [
    "# Build sorted geohashes list by neighbor count\n",
    "sorted_geohashes = sorted(\n",
    "    combiner.df1[\"geohash\"].unique(),\n",
    "    key=lambda gh: len(combiner.get_neighbors(gh)),\n",
    "    reverse=False\n",
    ")\n",
    "\n",
    "# Parameters for selecting target geohashes\n",
    "empty_geohashes_to_predict = 1  # Number of empty geohashes to predict\n",
    "target_index = 0                # Starting index in the sorted geohash list\n",
    "\n",
    "\n",
    "# Determine the target geohashes slice\n",
    "target_geohashes = sorted_geohashes[\n",
    "    target_index : target_index + empty_geohashes_to_predict\n",
    "]"
   ]
  },
  {
   "cell_type": "code",
   "execution_count": 6,
   "metadata": {},
   "outputs": [],
   "source": [
    "# -------------------------------------------\n",
    "# 2. Kriging Predictions\n",
    "# -------------------------------------------\n",
    "\n",
    "results = []\n",
    "for target_gh in target_geohashes:\n",
    "    try:\n",
    "        # Step 1: Initialize model with target geohash\n",
    "        model = fw.KrigingModel(combiner, target_geohash=target_gh)\n",
    "\n",
    "        # Step 2: Make prediction (without getCombinedInput)\n",
    "        prediction = model.getModelOutput()\n",
    "        \n",
    "        if not prediction:\n",
    "            print(f\"⚠️ No prediction possible for {target_gh}\")\n",
    "            continue\n",
    "            \n",
    "        # Step 3: Collect basic information about the target\n",
    "        target_data = combiner.df1[combiner.df1[\"geohash\"] == target_gh].iloc[0]\n",
    "        \n",
    "        # Step 4: Store results\n",
    "        results.append({\n",
    "            \"geohash\": target_gh,\n",
    "            \"latitude\": target_data[\"latitude\"],\n",
    "            \"longitude\": target_data[\"longitude\"],\n",
    "            \"predicted_rsrp\": prediction[\"prediction\"],\n",
    "            \"variance\": prediction[\"variance\"],\n",
    "            \"neighbors\": len(model.neighbors_df)\n",
    "        })\n",
    "        \n",
    "    except Exception as e:\n",
    "        print(f\"❌ Error for {target_gh}: {str(e)}\")"
   ]
  },
  {
   "cell_type": "code",
   "execution_count": 7,
   "metadata": {},
   "outputs": [
    {
     "name": "stdout",
     "output_type": "stream",
     "text": [
      "Variogram params - C0: 5 C1: 106.33319315473324 alpha: 4.6 R: 100\n"
     ]
    }
   ],
   "source": [
    "\n",
    "print(\"Variogram params - C0:\", model.C0, \"C1:\", model.C1, \"alpha:\", model.alpha, \"R:\", model.R)  # Debug"
   ]
  },
  {
   "cell_type": "code",
   "execution_count": 8,
   "metadata": {},
   "outputs": [
    {
     "name": "stdout",
     "output_type": "stream",
     "text": [
      "                          Prediction results\n",
      "------------------------------------------------------------------------\n",
      "    geohash   latitude  longitude  predicted_rsrp   variance  neighbors\n",
      "0  ezjqh1dt  40.438871  -3.687801      -89.751615  86.350915         25\n",
      "------------------------------------------------------------------------\n"
     ]
    }
   ],
   "source": [
    "# Show results\n",
    "if results:\n",
    "    df_results = pd.DataFrame(results)\n",
    "    print(\"                          Prediction results\")\n",
    "    print(\"------------------------------------------------------------------------\")\n",
    "    print(df_results)\n",
    "    print(\"------------------------------------------------------------------------\")\n",
    "else:\n",
    "    print(\"\\nNo predictions possible - check input data\")"
   ]
  },
  {
   "cell_type": "code",
   "execution_count": 9,
   "metadata": {},
   "outputs": [
    {
     "name": "stdout",
     "output_type": "stream",
     "text": [
      "========================================================\n",
      "Shapley computation (TSS) for target: ezjqh1dt\n"
     ]
    },
    {
     "name": "stderr",
     "output_type": "stream",
     "text": [
      "Shapley progress: 100%|██████████| 25/25 [01:06<00:00,  2.67s/chunk, avg=2.7s, ETA=0:00:00]\n"
     ]
    },
    {
     "name": "stdout",
     "output_type": "stream",
     "text": [
      "Negative RMSE for geohash ezjqh1dt: -4.342979331904743\n",
      "RSRP prediction for geohash ezjqh1dt: -89.75161526268985\n",
      "\n",
      "\n",
      "Used neighbors and their TSS Shapley Value:\n",
      "  Neighbor 1: 0.9073664348636438\n",
      "  Neighbor 2: -2.1910734557945504\n",
      "  Neighbor 3: -0.15615901864038284\n",
      "  Neighbor 4: 1.7307250372626561\n",
      "  Neighbor 5: 0.5095122345067622\n",
      "  Neighbor 6: -0.20180480448740332\n",
      "  Neighbor 7: 0.08876345379503735\n",
      "  Neighbor 8: 0.4952352674660444\n",
      "  Neighbor 9: -0.4127400388935438\n",
      "  Neighbor 10: 0.40195194498558035\n",
      "  Neighbor 11: -0.24424104832294954\n",
      "  Neighbor 12: -0.5743727952582108\n",
      "  Neighbor 13: 0.15157270554580168\n",
      "  Neighbor 14: -0.6277079264472507\n",
      "  Neighbor 15: 0.3978272743259076\n",
      "  Neighbor 16: 0.42190893939306473\n",
      "  Neighbor 17: -0.8271911914037314\n",
      "  Neighbor 18: -1.7122750095319488\n",
      "  Neighbor 19: 0.31874933868756716\n",
      "  Neighbor 20: -0.897300546192651\n",
      "  Neighbor 21: -0.31330044959367387\n",
      "  Neighbor 22: -1.6606881882110673\n",
      "  Neighbor 23: -0.7232438745334652\n",
      "  Neighbor 24: 0.3231844373977868\n",
      "  Neighbor 25: 0.5117671311054621\n",
      "\n",
      "\n",
      "Shapley sum vs. v(N): -4.28353415 , -4.34297933\n",
      "Is equal = False\n",
      "\n",
      "\n",
      "Number of evaluateTuple calls (nExecs): 91241\n",
      "Number of generated permutations: 5000\n",
      "\n"
     ]
    }
   ],
   "source": [
    "# -------------------------------------------\n",
    "# 3. SHAPLEY\n",
    "# -------------------------------------------\n",
    "\n",
    "shapResults = []\n",
    "\n",
    "for target_gh in target_geohashes:\n",
    "    print(\"========================================================\")\n",
    "    print(f\"Shapley computation (TSS) for target: {target_gh}\")\n",
    "\n",
    "    # Create a KrigingModel in Shapley mode\n",
    "    model = fw.KrigingModel(combiner, target_gh, use_shapley_mode=True)\n",
    "    model_fut = client.scatter(model, broadcast=True)\n",
    "\n",
    "    # Create a new vbdeFramework (with buffering) using Dask futures\n",
    "    framework = fw.vbdeFramework(\n",
    "        iCombiner=combiner_fut,\n",
    "        iModel=model_fut,\n",
    "        iValueFunction=val_fn_fut\n",
    "    )\n",
    "\n",
    "    # Retrieve the subindices (neighbors) associated with this target\n",
    "    subindices = combiner.getSources(target_gh)\n",
    "    if not subindices:\n",
    "        print(\"No neighbors found for this geohash, skipping...\\n\")\n",
    "        continue\n",
    "\n",
    "    # Define TSS parameters\n",
    "    r = 200                # Number of rounds (more rounds typically yield better results)\n",
    "    trunc_value = -0.01    # Truncation threshold for marginal contributions\n",
    "\n",
    "    # Compute the Shapley values using Truncated Structured Sampling (parallel)\n",
    "    shapley_tss, dfPerms, nExecs = framework.getTSS_parallel(\n",
    "        config.daskClient,\n",
    "        framework.WorkerProcess_init,\n",
    "        subindices,\n",
    "        r,\n",
    "        trunc_value\n",
    "    )\n",
    "\n",
    "    # Get the evaluation (-RMSE) for the full coalition (all neighbors combined)\n",
    "    full_coalition = tuple(sorted(subindices))\n",
    "    prediction_full_eval = framework.evaluateTuple(full_coalition)\n",
    "    print(f\"Negative RMSE for geohash {target_gh}: {prediction_full_eval}\")\n",
    "\n",
    "    # Get the raw RSRP prediction for the full coalition\n",
    "    combined_input = combiner.getCombinedInput(target_gh, full_coalition)\n",
    "    rsrp_prediction = model.getModelOutput(combined_input)[\"prediction\"]\n",
    "    print(f\"RSRP prediction for geohash {target_gh}: {rsrp_prediction}\")\n",
    "    print(\"\\n\")\n",
    "\n",
    "    # Compile Shapley values per neighbor and construct the output DataFrame\n",
    "    neighbors_df = combiner.get_neighbors(target_gh).copy()\n",
    "    neighbors_df['shapley_value'] = neighbors_df['subindex'].apply(lambda x: shapley_tss.get(x, np.nan))\n",
    "    neighbors_output = neighbors_df[['geohash_y', 'shapley_value', 'longitude_y', 'latitude_y', 'events', 'value']].rename(\n",
    "        columns={\n",
    "            'geohash_y': 'geohash',\n",
    "            'longitude_y': 'longitude',\n",
    "            'latitude_y': 'latitude',\n",
    "            'value': 'value'\n",
    "        }\n",
    "    )\n",
    "\n",
    "    # Add a \"role\" column and set it to nan for neighbors\n",
    "    neighbors_output['role'] = np.nan\n",
    "\n",
    "    # Retrieve the target metadata from combiner.df1\n",
    "    target_data = combiner.df1[combiner.df1[\"geohash\"] == target_gh].iloc[0]\n",
    "    target_row = pd.DataFrame({\n",
    "        \"geohash\": [target_gh],\n",
    "        \"shapley_value\": [np.nan],\n",
    "        \"longitude\": [target_data[\"longitude\"]],\n",
    "        \"latitude\": [target_data[\"latitude\"]],\n",
    "        \"events\": [np.nan],\n",
    "        \"role\": [\"target\"]\n",
    "    })\n",
    "\n",
    "    # Combine neighbor rows and target row into one DataFrame\n",
    "    neighbor_shap_df = pd.concat([neighbors_output, target_row], ignore_index=True)\n",
    "\n",
    "    # Display neighbors and their Shapley values\n",
    "    print(\"Used neighbors and their TSS Shapley Value:\")\n",
    "    shapsum = 0\n",
    "    for si in subindices:\n",
    "        shap_val = shapley_tss.get(si, \"n/a\")\n",
    "        if shap_val == \"n/a\":\n",
    "            shap_val = np.nan\n",
    "        shapsum += shap_val if not np.isnan(shap_val) else 0\n",
    "        print(f\"  Neighbor {si}: {shap_val}\")\n",
    "\n",
    "    # Check Shapley efficiency: sum of SVs vs. v(N)\n",
    "    shapsum_rounded = round(shapsum, 8)\n",
    "    vN_rounded = round(prediction_full_eval, 8)\n",
    "    sv_check = (shapsum_rounded == vN_rounded)\n",
    "\n",
    "    print(\"\\n\")\n",
    "    print(\"Shapley sum vs. v(N):\", shapsum_rounded, \",\", vN_rounded)\n",
    "    print(\"Is equal =\", sv_check)\n",
    "\n",
    "    # Calculate total possible evaluateTuple calls without truncation\n",
    "    total_calls = len(dfPerms) * len(subindices)\n",
    "    calls_saved = total_calls - nExecs\n",
    "\n",
    "    # Store current results\n",
    "    shapResults.append({\n",
    "        \"target_geohash\": target_gh,\n",
    "        \"rsrp_prediction\": rsrp_prediction,\n",
    "        \"negative RMSE\": prediction_full_eval,\n",
    "        \"number_of_neighbors\": len(subindices),\n",
    "        \"neighbor_shapley_values\": neighbor_shap_df,\n",
    "        \"total_shapley\": shapsum,\n",
    "        \"sv_check\": sv_check,\n",
    "        \"nExecs\": nExecs,\n",
    "        \"nPermutations\": len(dfPerms),\n",
    "        \"calls_saved\": calls_saved       \n",
    "    })\n",
    "\n",
    "    print(\"\\n\")\n",
    "    print(f\"Number of evaluateTuple calls (nExecs): {nExecs}\")\n",
    "    print(f\"Number of generated permutations: {len(dfPerms)}\\n\")\n",
    "\n",
    "shapResults_df = pd.DataFrame(shapResults)"
   ]
  },
  {
   "cell_type": "code",
   "execution_count": 10,
   "metadata": {},
   "outputs": [
    {
     "data": {
      "application/vnd.microsoft.datawrangler.viewer.v0+json": {
       "columns": [
        {
         "name": "index",
         "rawType": "int64",
         "type": "integer"
        },
        {
         "name": "target_geohash",
         "rawType": "object",
         "type": "string"
        },
        {
         "name": "rsrp_prediction",
         "rawType": "float64",
         "type": "float"
        },
        {
         "name": "negative RMSE",
         "rawType": "float64",
         "type": "float"
        },
        {
         "name": "number_of_neighbors",
         "rawType": "int64",
         "type": "integer"
        },
        {
         "name": "neighbor_shapley_values",
         "rawType": "object",
         "type": "unknown"
        },
        {
         "name": "total_shapley",
         "rawType": "float64",
         "type": "float"
        },
        {
         "name": "sv_check",
         "rawType": "bool",
         "type": "boolean"
        },
        {
         "name": "nExecs",
         "rawType": "int64",
         "type": "integer"
        },
        {
         "name": "nPermutations",
         "rawType": "int64",
         "type": "integer"
        },
        {
         "name": "calls_saved",
         "rawType": "int64",
         "type": "integer"
        }
       ],
       "ref": "05a56f9b-ed55-4c32-85c8-b28df0eed7e6",
       "rows": [
        [
         "0",
         "ezjqh1dt",
         "-89.75161526268985",
         "-4.342979331904743",
         "25",
         "     geohash  shapley_value  longitude   latitude  events       value    role\n0   ezjqh1dw       0.907366  -3.687801  40.439040     7.0  -92.285714     NaN\n1   ezjqh1ds      -2.191073  -3.687801  40.438698     1.0  -81.000000     NaN\n2   ezjqh1dv      -0.156159  -3.687458  40.438873     1.0  -90.000000     NaN\n3   ezjqh1dy       1.730725  -3.687458  40.439040     5.0 -108.200000     NaN\n4   ezjqh1du       0.509512  -3.687458  40.438698     1.0  -93.000000     NaN\n5   ezjqh1dx      -0.201805  -3.687801  40.439217     5.0  -88.800000     NaN\n6   ezjqh1dr       0.088763  -3.688145  40.439217    10.0  -89.600000     NaN\n7   ezjqh1dz       0.495235  -3.687458  40.439217     2.0  -97.500000     NaN\n8   ezjqh1f2      -0.412740  -3.688145  40.439384     4.0  -86.250000     NaN\n9   ezjqh1fb       0.401952  -3.687458  40.439384     3.0  -94.000000     NaN\n10  ezjqh1dp      -0.244241  -3.688488  40.439217    10.0  -87.400000     NaN\n11  ezjqh1d9      -0.574373  -3.687801  40.438187     1.0  -84.000000     NaN\n12  ezjqh1f0       0.151573  -3.688488  40.439384     1.0  -92.000000     NaN\n13  ezjqh1d3      -0.627708  -3.688145  40.438187     2.0  -84.000000     NaN\n14  ezjqh1f3       0.397827  -3.688145  40.439560     2.0  -94.500000     NaN\n15  ezjqh1fc       0.421909  -3.687458  40.439560     3.0  -94.000000     NaN\n16  ezjqh19v      -0.827191  -3.688831  40.438873     1.0  -81.000000     NaN\n17  ezjqh19y      -1.712275  -3.688831  40.439040     8.0  -76.250000     NaN\n18  ezjqh1fd       0.318749  -3.687801  40.439728     1.0 -105.000000     NaN\n19  ezjqh19z      -0.897301  -3.688831  40.439217     5.0  -81.800000     NaN\n20  ezjqh1d1      -0.313300  -3.688488  40.438187     4.0  -86.750000     NaN\n21  ezjqh1e1      -1.660688  -3.687115  40.438187     3.0  -77.000000     NaN\n22  ezjqh1d8      -0.723244  -3.687801  40.438010    55.0  -84.254545     NaN\n23  ezjqh1f1       0.323184  -3.688488  40.439560     1.0  -94.000000     NaN\n24  ezjqh1g1       0.511767  -3.687115  40.439560     3.0  -95.000000     NaN\n25  ezjqh1dt            NaN  -3.687801  40.438871     NaN         NaN  target",
         "-4.283534147975514",
         "False",
         "91241",
         "5000",
         "33759"
        ]
       ],
       "shape": {
        "columns": 10,
        "rows": 1
       }
      },
      "text/html": [
       "<div>\n",
       "<style scoped>\n",
       "    .dataframe tbody tr th:only-of-type {\n",
       "        vertical-align: middle;\n",
       "    }\n",
       "\n",
       "    .dataframe tbody tr th {\n",
       "        vertical-align: top;\n",
       "    }\n",
       "\n",
       "    .dataframe thead th {\n",
       "        text-align: right;\n",
       "    }\n",
       "</style>\n",
       "<table border=\"1\" class=\"dataframe\">\n",
       "  <thead>\n",
       "    <tr style=\"text-align: right;\">\n",
       "      <th></th>\n",
       "      <th>target_geohash</th>\n",
       "      <th>rsrp_prediction</th>\n",
       "      <th>negative RMSE</th>\n",
       "      <th>number_of_neighbors</th>\n",
       "      <th>neighbor_shapley_values</th>\n",
       "      <th>total_shapley</th>\n",
       "      <th>sv_check</th>\n",
       "      <th>nExecs</th>\n",
       "      <th>nPermutations</th>\n",
       "      <th>calls_saved</th>\n",
       "    </tr>\n",
       "  </thead>\n",
       "  <tbody>\n",
       "    <tr>\n",
       "      <th>0</th>\n",
       "      <td>ezjqh1dt</td>\n",
       "      <td>-89.751615</td>\n",
       "      <td>-4.342979</td>\n",
       "      <td>25</td>\n",
       "      <td>geohash  shapley_value  longitude   latit...</td>\n",
       "      <td>-4.283534</td>\n",
       "      <td>False</td>\n",
       "      <td>91241</td>\n",
       "      <td>5000</td>\n",
       "      <td>33759</td>\n",
       "    </tr>\n",
       "  </tbody>\n",
       "</table>\n",
       "</div>"
      ],
      "text/plain": [
       "  target_geohash  rsrp_prediction  negative RMSE  number_of_neighbors  \\\n",
       "0       ezjqh1dt       -89.751615      -4.342979                   25   \n",
       "\n",
       "                             neighbor_shapley_values  total_shapley  sv_check  \\\n",
       "0       geohash  shapley_value  longitude   latit...      -4.283534     False   \n",
       "\n",
       "   nExecs  nPermutations  calls_saved  \n",
       "0   91241           5000        33759  "
      ]
     },
     "execution_count": 10,
     "metadata": {},
     "output_type": "execute_result"
    }
   ],
   "source": [
    "shapResults_df"
   ]
  },
  {
   "cell_type": "code",
   "execution_count": 11,
   "metadata": {},
   "outputs": [
    {
     "name": "stdout",
     "output_type": "stream",
     "text": [
      "Sum of all -RMSE: -4.342979331904743\n"
     ]
    }
   ],
   "source": [
    "total_neg_RMSE = shapResults_df[\"negative RMSE\"].sum()\n",
    "print(\"Sum of all -RMSE:\", total_neg_RMSE)"
   ]
  },
  {
   "cell_type": "code",
   "execution_count": 12,
   "metadata": {},
   "outputs": [
    {
     "data": {
      "application/vnd.microsoft.datawrangler.viewer.v0+json": {
       "columns": [
        {
         "name": "index",
         "rawType": "int64",
         "type": "integer"
        },
        {
         "name": "geohash",
         "rawType": "object",
         "type": "string"
        },
        {
         "name": "shapley_value",
         "rawType": "float64",
         "type": "float"
        },
        {
         "name": "longitude",
         "rawType": "float64",
         "type": "float"
        },
        {
         "name": "latitude",
         "rawType": "float64",
         "type": "float"
        },
        {
         "name": "events",
         "rawType": "float64",
         "type": "float"
        },
        {
         "name": "value",
         "rawType": "float64",
         "type": "float"
        },
        {
         "name": "role",
         "rawType": "object",
         "type": "unknown"
        }
       ],
       "ref": "458b0350-cea0-484d-bf63-d976401bba97",
       "rows": [
        [
         "0",
         "ezjqh1dw",
         "0.9073664348636438",
         "-3.6878014",
         "40.43904",
         "7.0",
         "-92.28571428571429",
         null
        ],
        [
         "1",
         "ezjqh1ds",
         "-2.1910734557945504",
         "-3.6878014",
         "40.438698",
         "1.0",
         "-81.0",
         null
        ],
        [
         "2",
         "ezjqh1dv",
         "-0.15615901864038284",
         "-3.687458",
         "40.438873",
         "1.0",
         "-90.0",
         null
        ],
        [
         "3",
         "ezjqh1dy",
         "1.7307250372626561",
         "-3.687458",
         "40.43904",
         "5.0",
         "-108.2",
         null
        ],
        [
         "4",
         "ezjqh1du",
         "0.5095122345067622",
         "-3.687458",
         "40.438698",
         "1.0",
         "-93.0",
         null
        ],
        [
         "5",
         "ezjqh1dx",
         "-0.20180480448740332",
         "-3.6878014",
         "40.439217",
         "5.0",
         "-88.8",
         null
        ],
        [
         "6",
         "ezjqh1dr",
         "0.08876345379503735",
         "-3.6881447",
         "40.439217",
         "10.0",
         "-89.6",
         null
        ],
        [
         "7",
         "ezjqh1dz",
         "0.4952352674660444",
         "-3.687458",
         "40.439217",
         "2.0",
         "-97.5",
         null
        ],
        [
         "8",
         "ezjqh1f2",
         "-0.4127400388935438",
         "-3.6881447",
         "40.439384",
         "4.0",
         "-86.25",
         null
        ],
        [
         "9",
         "ezjqh1fb",
         "0.40195194498558035",
         "-3.687458",
         "40.439384",
         "3.0",
         "-94.0",
         null
        ],
        [
         "10",
         "ezjqh1dp",
         "-0.24424104832294954",
         "-3.688488",
         "40.439217",
         "10.0",
         "-87.4",
         null
        ],
        [
         "11",
         "ezjqh1d9",
         "-0.5743727952582108",
         "-3.6878014",
         "40.438187",
         "1.0",
         "-84.0",
         null
        ],
        [
         "12",
         "ezjqh1f0",
         "0.15157270554580168",
         "-3.688488",
         "40.439384",
         "1.0",
         "-92.0",
         null
        ],
        [
         "13",
         "ezjqh1d3",
         "-0.6277079264472507",
         "-3.6881447",
         "40.438187",
         "2.0",
         "-84.0",
         null
        ],
        [
         "14",
         "ezjqh1f3",
         "0.3978272743259076",
         "-3.6881447",
         "40.43956",
         "2.0",
         "-94.5",
         null
        ],
        [
         "15",
         "ezjqh1fc",
         "0.42190893939306473",
         "-3.687458",
         "40.43956",
         "3.0",
         "-94.0",
         null
        ],
        [
         "16",
         "ezjqh19v",
         "-0.8271911914037314",
         "-3.6888313",
         "40.438873",
         "1.0",
         "-81.0",
         null
        ],
        [
         "17",
         "ezjqh19y",
         "-1.7122750095319488",
         "-3.6888313",
         "40.43904",
         "8.0",
         "-76.25",
         null
        ],
        [
         "18",
         "ezjqh1fd",
         "0.31874933868756716",
         "-3.6878014",
         "40.439728",
         "1.0",
         "-105.0",
         null
        ],
        [
         "19",
         "ezjqh19z",
         "-0.897300546192651",
         "-3.6888313",
         "40.439217",
         "5.0",
         "-81.8",
         null
        ],
        [
         "20",
         "ezjqh1d1",
         "-0.31330044959367387",
         "-3.688488",
         "40.438187",
         "4.0",
         "-86.75",
         null
        ],
        [
         "21",
         "ezjqh1e1",
         "-1.6606881882110673",
         "-3.6871147",
         "40.438187",
         "3.0",
         "-77.0",
         null
        ],
        [
         "22",
         "ezjqh1d8",
         "-0.7232438745334652",
         "-3.6878014",
         "40.43801",
         "55.0",
         "-84.25454545454545",
         null
        ],
        [
         "23",
         "ezjqh1f1",
         "0.3231844373977868",
         "-3.688488",
         "40.43956",
         "1.0",
         "-94.0",
         null
        ],
        [
         "24",
         "ezjqh1g1",
         "0.5117671311054621",
         "-3.6871147",
         "40.43956",
         "3.0",
         "-95.0",
         null
        ],
        [
         "25",
         "ezjqh1dt",
         null,
         "-3.687801361083984",
         "40.43887138366699",
         null,
         null,
         "target"
        ]
       ],
       "shape": {
        "columns": 7,
        "rows": 26
       }
      },
      "text/html": [
       "<div>\n",
       "<style scoped>\n",
       "    .dataframe tbody tr th:only-of-type {\n",
       "        vertical-align: middle;\n",
       "    }\n",
       "\n",
       "    .dataframe tbody tr th {\n",
       "        vertical-align: top;\n",
       "    }\n",
       "\n",
       "    .dataframe thead th {\n",
       "        text-align: right;\n",
       "    }\n",
       "</style>\n",
       "<table border=\"1\" class=\"dataframe\">\n",
       "  <thead>\n",
       "    <tr style=\"text-align: right;\">\n",
       "      <th></th>\n",
       "      <th>geohash</th>\n",
       "      <th>shapley_value</th>\n",
       "      <th>longitude</th>\n",
       "      <th>latitude</th>\n",
       "      <th>events</th>\n",
       "      <th>value</th>\n",
       "      <th>role</th>\n",
       "    </tr>\n",
       "  </thead>\n",
       "  <tbody>\n",
       "    <tr>\n",
       "      <th>0</th>\n",
       "      <td>ezjqh1dw</td>\n",
       "      <td>0.907366</td>\n",
       "      <td>-3.687801</td>\n",
       "      <td>40.439040</td>\n",
       "      <td>7.0</td>\n",
       "      <td>-92.285714</td>\n",
       "      <td>NaN</td>\n",
       "    </tr>\n",
       "    <tr>\n",
       "      <th>1</th>\n",
       "      <td>ezjqh1ds</td>\n",
       "      <td>-2.191073</td>\n",
       "      <td>-3.687801</td>\n",
       "      <td>40.438698</td>\n",
       "      <td>1.0</td>\n",
       "      <td>-81.000000</td>\n",
       "      <td>NaN</td>\n",
       "    </tr>\n",
       "    <tr>\n",
       "      <th>2</th>\n",
       "      <td>ezjqh1dv</td>\n",
       "      <td>-0.156159</td>\n",
       "      <td>-3.687458</td>\n",
       "      <td>40.438873</td>\n",
       "      <td>1.0</td>\n",
       "      <td>-90.000000</td>\n",
       "      <td>NaN</td>\n",
       "    </tr>\n",
       "    <tr>\n",
       "      <th>3</th>\n",
       "      <td>ezjqh1dy</td>\n",
       "      <td>1.730725</td>\n",
       "      <td>-3.687458</td>\n",
       "      <td>40.439040</td>\n",
       "      <td>5.0</td>\n",
       "      <td>-108.200000</td>\n",
       "      <td>NaN</td>\n",
       "    </tr>\n",
       "    <tr>\n",
       "      <th>4</th>\n",
       "      <td>ezjqh1du</td>\n",
       "      <td>0.509512</td>\n",
       "      <td>-3.687458</td>\n",
       "      <td>40.438698</td>\n",
       "      <td>1.0</td>\n",
       "      <td>-93.000000</td>\n",
       "      <td>NaN</td>\n",
       "    </tr>\n",
       "    <tr>\n",
       "      <th>5</th>\n",
       "      <td>ezjqh1dx</td>\n",
       "      <td>-0.201805</td>\n",
       "      <td>-3.687801</td>\n",
       "      <td>40.439217</td>\n",
       "      <td>5.0</td>\n",
       "      <td>-88.800000</td>\n",
       "      <td>NaN</td>\n",
       "    </tr>\n",
       "    <tr>\n",
       "      <th>6</th>\n",
       "      <td>ezjqh1dr</td>\n",
       "      <td>0.088763</td>\n",
       "      <td>-3.688145</td>\n",
       "      <td>40.439217</td>\n",
       "      <td>10.0</td>\n",
       "      <td>-89.600000</td>\n",
       "      <td>NaN</td>\n",
       "    </tr>\n",
       "    <tr>\n",
       "      <th>7</th>\n",
       "      <td>ezjqh1dz</td>\n",
       "      <td>0.495235</td>\n",
       "      <td>-3.687458</td>\n",
       "      <td>40.439217</td>\n",
       "      <td>2.0</td>\n",
       "      <td>-97.500000</td>\n",
       "      <td>NaN</td>\n",
       "    </tr>\n",
       "    <tr>\n",
       "      <th>8</th>\n",
       "      <td>ezjqh1f2</td>\n",
       "      <td>-0.412740</td>\n",
       "      <td>-3.688145</td>\n",
       "      <td>40.439384</td>\n",
       "      <td>4.0</td>\n",
       "      <td>-86.250000</td>\n",
       "      <td>NaN</td>\n",
       "    </tr>\n",
       "    <tr>\n",
       "      <th>9</th>\n",
       "      <td>ezjqh1fb</td>\n",
       "      <td>0.401952</td>\n",
       "      <td>-3.687458</td>\n",
       "      <td>40.439384</td>\n",
       "      <td>3.0</td>\n",
       "      <td>-94.000000</td>\n",
       "      <td>NaN</td>\n",
       "    </tr>\n",
       "    <tr>\n",
       "      <th>10</th>\n",
       "      <td>ezjqh1dp</td>\n",
       "      <td>-0.244241</td>\n",
       "      <td>-3.688488</td>\n",
       "      <td>40.439217</td>\n",
       "      <td>10.0</td>\n",
       "      <td>-87.400000</td>\n",
       "      <td>NaN</td>\n",
       "    </tr>\n",
       "    <tr>\n",
       "      <th>11</th>\n",
       "      <td>ezjqh1d9</td>\n",
       "      <td>-0.574373</td>\n",
       "      <td>-3.687801</td>\n",
       "      <td>40.438187</td>\n",
       "      <td>1.0</td>\n",
       "      <td>-84.000000</td>\n",
       "      <td>NaN</td>\n",
       "    </tr>\n",
       "    <tr>\n",
       "      <th>12</th>\n",
       "      <td>ezjqh1f0</td>\n",
       "      <td>0.151573</td>\n",
       "      <td>-3.688488</td>\n",
       "      <td>40.439384</td>\n",
       "      <td>1.0</td>\n",
       "      <td>-92.000000</td>\n",
       "      <td>NaN</td>\n",
       "    </tr>\n",
       "    <tr>\n",
       "      <th>13</th>\n",
       "      <td>ezjqh1d3</td>\n",
       "      <td>-0.627708</td>\n",
       "      <td>-3.688145</td>\n",
       "      <td>40.438187</td>\n",
       "      <td>2.0</td>\n",
       "      <td>-84.000000</td>\n",
       "      <td>NaN</td>\n",
       "    </tr>\n",
       "    <tr>\n",
       "      <th>14</th>\n",
       "      <td>ezjqh1f3</td>\n",
       "      <td>0.397827</td>\n",
       "      <td>-3.688145</td>\n",
       "      <td>40.439560</td>\n",
       "      <td>2.0</td>\n",
       "      <td>-94.500000</td>\n",
       "      <td>NaN</td>\n",
       "    </tr>\n",
       "    <tr>\n",
       "      <th>15</th>\n",
       "      <td>ezjqh1fc</td>\n",
       "      <td>0.421909</td>\n",
       "      <td>-3.687458</td>\n",
       "      <td>40.439560</td>\n",
       "      <td>3.0</td>\n",
       "      <td>-94.000000</td>\n",
       "      <td>NaN</td>\n",
       "    </tr>\n",
       "    <tr>\n",
       "      <th>16</th>\n",
       "      <td>ezjqh19v</td>\n",
       "      <td>-0.827191</td>\n",
       "      <td>-3.688831</td>\n",
       "      <td>40.438873</td>\n",
       "      <td>1.0</td>\n",
       "      <td>-81.000000</td>\n",
       "      <td>NaN</td>\n",
       "    </tr>\n",
       "    <tr>\n",
       "      <th>17</th>\n",
       "      <td>ezjqh19y</td>\n",
       "      <td>-1.712275</td>\n",
       "      <td>-3.688831</td>\n",
       "      <td>40.439040</td>\n",
       "      <td>8.0</td>\n",
       "      <td>-76.250000</td>\n",
       "      <td>NaN</td>\n",
       "    </tr>\n",
       "    <tr>\n",
       "      <th>18</th>\n",
       "      <td>ezjqh1fd</td>\n",
       "      <td>0.318749</td>\n",
       "      <td>-3.687801</td>\n",
       "      <td>40.439728</td>\n",
       "      <td>1.0</td>\n",
       "      <td>-105.000000</td>\n",
       "      <td>NaN</td>\n",
       "    </tr>\n",
       "    <tr>\n",
       "      <th>19</th>\n",
       "      <td>ezjqh19z</td>\n",
       "      <td>-0.897301</td>\n",
       "      <td>-3.688831</td>\n",
       "      <td>40.439217</td>\n",
       "      <td>5.0</td>\n",
       "      <td>-81.800000</td>\n",
       "      <td>NaN</td>\n",
       "    </tr>\n",
       "    <tr>\n",
       "      <th>20</th>\n",
       "      <td>ezjqh1d1</td>\n",
       "      <td>-0.313300</td>\n",
       "      <td>-3.688488</td>\n",
       "      <td>40.438187</td>\n",
       "      <td>4.0</td>\n",
       "      <td>-86.750000</td>\n",
       "      <td>NaN</td>\n",
       "    </tr>\n",
       "    <tr>\n",
       "      <th>21</th>\n",
       "      <td>ezjqh1e1</td>\n",
       "      <td>-1.660688</td>\n",
       "      <td>-3.687115</td>\n",
       "      <td>40.438187</td>\n",
       "      <td>3.0</td>\n",
       "      <td>-77.000000</td>\n",
       "      <td>NaN</td>\n",
       "    </tr>\n",
       "    <tr>\n",
       "      <th>22</th>\n",
       "      <td>ezjqh1d8</td>\n",
       "      <td>-0.723244</td>\n",
       "      <td>-3.687801</td>\n",
       "      <td>40.438010</td>\n",
       "      <td>55.0</td>\n",
       "      <td>-84.254545</td>\n",
       "      <td>NaN</td>\n",
       "    </tr>\n",
       "    <tr>\n",
       "      <th>23</th>\n",
       "      <td>ezjqh1f1</td>\n",
       "      <td>0.323184</td>\n",
       "      <td>-3.688488</td>\n",
       "      <td>40.439560</td>\n",
       "      <td>1.0</td>\n",
       "      <td>-94.000000</td>\n",
       "      <td>NaN</td>\n",
       "    </tr>\n",
       "    <tr>\n",
       "      <th>24</th>\n",
       "      <td>ezjqh1g1</td>\n",
       "      <td>0.511767</td>\n",
       "      <td>-3.687115</td>\n",
       "      <td>40.439560</td>\n",
       "      <td>3.0</td>\n",
       "      <td>-95.000000</td>\n",
       "      <td>NaN</td>\n",
       "    </tr>\n",
       "    <tr>\n",
       "      <th>25</th>\n",
       "      <td>ezjqh1dt</td>\n",
       "      <td>NaN</td>\n",
       "      <td>-3.687801</td>\n",
       "      <td>40.438871</td>\n",
       "      <td>NaN</td>\n",
       "      <td>NaN</td>\n",
       "      <td>target</td>\n",
       "    </tr>\n",
       "  </tbody>\n",
       "</table>\n",
       "</div>"
      ],
      "text/plain": [
       "     geohash  shapley_value  longitude   latitude  events       value    role\n",
       "0   ezjqh1dw       0.907366  -3.687801  40.439040     7.0  -92.285714     NaN\n",
       "1   ezjqh1ds      -2.191073  -3.687801  40.438698     1.0  -81.000000     NaN\n",
       "2   ezjqh1dv      -0.156159  -3.687458  40.438873     1.0  -90.000000     NaN\n",
       "3   ezjqh1dy       1.730725  -3.687458  40.439040     5.0 -108.200000     NaN\n",
       "4   ezjqh1du       0.509512  -3.687458  40.438698     1.0  -93.000000     NaN\n",
       "5   ezjqh1dx      -0.201805  -3.687801  40.439217     5.0  -88.800000     NaN\n",
       "6   ezjqh1dr       0.088763  -3.688145  40.439217    10.0  -89.600000     NaN\n",
       "7   ezjqh1dz       0.495235  -3.687458  40.439217     2.0  -97.500000     NaN\n",
       "8   ezjqh1f2      -0.412740  -3.688145  40.439384     4.0  -86.250000     NaN\n",
       "9   ezjqh1fb       0.401952  -3.687458  40.439384     3.0  -94.000000     NaN\n",
       "10  ezjqh1dp      -0.244241  -3.688488  40.439217    10.0  -87.400000     NaN\n",
       "11  ezjqh1d9      -0.574373  -3.687801  40.438187     1.0  -84.000000     NaN\n",
       "12  ezjqh1f0       0.151573  -3.688488  40.439384     1.0  -92.000000     NaN\n",
       "13  ezjqh1d3      -0.627708  -3.688145  40.438187     2.0  -84.000000     NaN\n",
       "14  ezjqh1f3       0.397827  -3.688145  40.439560     2.0  -94.500000     NaN\n",
       "15  ezjqh1fc       0.421909  -3.687458  40.439560     3.0  -94.000000     NaN\n",
       "16  ezjqh19v      -0.827191  -3.688831  40.438873     1.0  -81.000000     NaN\n",
       "17  ezjqh19y      -1.712275  -3.688831  40.439040     8.0  -76.250000     NaN\n",
       "18  ezjqh1fd       0.318749  -3.687801  40.439728     1.0 -105.000000     NaN\n",
       "19  ezjqh19z      -0.897301  -3.688831  40.439217     5.0  -81.800000     NaN\n",
       "20  ezjqh1d1      -0.313300  -3.688488  40.438187     4.0  -86.750000     NaN\n",
       "21  ezjqh1e1      -1.660688  -3.687115  40.438187     3.0  -77.000000     NaN\n",
       "22  ezjqh1d8      -0.723244  -3.687801  40.438010    55.0  -84.254545     NaN\n",
       "23  ezjqh1f1       0.323184  -3.688488  40.439560     1.0  -94.000000     NaN\n",
       "24  ezjqh1g1       0.511767  -3.687115  40.439560     3.0  -95.000000     NaN\n",
       "25  ezjqh1dt            NaN  -3.687801  40.438871     NaN         NaN  target"
      ]
     },
     "execution_count": 12,
     "metadata": {},
     "output_type": "execute_result"
    }
   ],
   "source": [
    "output = shapResults_df[\"neighbor_shapley_values\"][0]\n",
    "output"
   ]
  },
  {
   "cell_type": "code",
   "execution_count": 13,
   "metadata": {},
   "outputs": [],
   "source": [
    "output.to_csv('output/output_shapleyGEOlevel.csv')"
   ]
  },
  {
   "cell_type": "markdown",
   "metadata": {},
   "source": [
    "***Graphing***"
   ]
  },
  {
   "cell_type": "code",
   "execution_count": 14,
   "metadata": {},
   "outputs": [
    {
     "data": {
      "image/png": "[encoded data removed]",
      "text/plain": [
       "<Figure size 500x400 with 1 Axes>"
      ]
     },
     "metadata": {},
     "output_type": "display_data"
    },
    {
     "data": {
      "image/png": "[encoded data removed]",
      "text/plain": [
       "<Figure size 500x400 with 1 Axes>"
      ]
     },
     "metadata": {},
     "output_type": "display_data"
    },
    {
     "data": {
      "image/png": "[encoded data removed]",
      "text/plain": [
       "<Figure size 500x400 with 1 Axes>"
      ]
     },
     "metadata": {},
     "output_type": "display_data"
    },
    {
     "data": {
      "image/png": "[encoded data removed]",
      "text/plain": [
       "<Figure size 500x400 with 1 Axes>"
      ]
     },
     "metadata": {},
     "output_type": "display_data"
    },
    {
     "data": {
      "image/png": "[encoded data removed]",
      "text/plain": [
       "<Figure size 500x400 with 1 Axes>"
      ]
     },
     "metadata": {},
     "output_type": "display_data"
    },
    {
     "data": {
      "image/png": "[encoded data removed]",
      "text/plain": [
       "<Figure size 500x400 with 1 Axes>"
      ]
     },
     "metadata": {},
     "output_type": "display_data"
    }
   ],
   "source": [
    "# Precompute user counts for density interaction\n",
    "try:\n",
    "    raw_df = pd.read_csv(input)\n",
    "    if 'user_id' in raw_df.columns:\n",
    "        user_counts = raw_df.groupby('gps_geohash_08')['user_id'].nunique()\n",
    "    else:\n",
    "        user_counts = combiner.df2.set_index('geohash')['events']\n",
    "except Exception:\n",
    "    user_counts = combiner.df2.set_index('geohash')['events']\n",
    "\n",
    "# Determine number of targets\n",
    "n_targets = len(shapResults_df)\n",
    "\n",
    "# Plot configuration: (feature, xlabel, title)\n",
    "plot_config = [\n",
    "    ('distance', 'Distance to target (m)', 'Shapley vs Distance to Target'),\n",
    "    ('cumulative_shapley', 'Neighbors ranked by distance', 'Cumulative Shapley by Distance'),\n",
    "    ('events', 'Events per geohash', 'Shapley vs Events per Geohash'),\n",
    "    ('value', 'RSRP value', 'Shapley vs RSRP Value'),\n",
    "    ('semivariogram_weight', 'Semivariogram weight', 'Shapley vs Semivariogram Weight'),\n",
    "    ('density', 'Events × Users', 'Shapley vs Density Interaction'),\n",
    "]\n",
    "\n",
    "for feature, xlabel, title in plot_config:\n",
    "    fig, axes = plt.subplots(1, n_targets, figsize=(5 * n_targets, 4), squeeze=False)\n",
    "    for ax, (_, row) in zip(axes[0], shapResults_df.iterrows()):\n",
    "        df = row['neighbor_shapley_values']\n",
    "        if feature == 'events':\n",
    "            x = df['events']\n",
    "            y = df['shapley_value']\n",
    "            ax.scatter(x, y)\n",
    "        elif feature == 'distance':\n",
    "            dist_df = combiner.get_neighbors(row['target_geohash'])[['geohash_y','distance']].rename(columns={'geohash_y':'geohash'})\n",
    "            df_dist = pd.merge(df, dist_df, on='geohash')\n",
    "            x = df_dist['distance']\n",
    "            y = df_dist['shapley_value']\n",
    "            ax.scatter(x, y)\n",
    "        elif feature == 'value':\n",
    "            x = df['value']\n",
    "            y = df['shapley_value']\n",
    "            ax.scatter(x, y)\n",
    "        elif feature == 'semivariogram_weight':\n",
    "            dist_df = combiner.get_neighbors(row['target_geohash'])[['geohash_y','distance']].rename(columns={'geohash_y':'geohash'})\n",
    "            df_dist = pd.merge(df, dist_df, on='geohash')\n",
    "            x = combiner.sv(df_dist['distance'])\n",
    "            y = df_dist['shapley_value']\n",
    "            ax.scatter(x, y)\n",
    "        elif feature == 'cumulative_shapley':\n",
    "            dist_df = combiner.get_neighbors(row['target_geohash'])[['geohash_y','distance']].rename(columns={'geohash_y':'geohash'})\n",
    "            df_dist = pd.merge(df, dist_df, on='geohash').sort_values('distance')\n",
    "            cumsum = df_dist['shapley_value'].cumsum()\n",
    "            x = range(1, len(cumsum) + 1)\n",
    "            y = cumsum.values\n",
    "            ax.plot(x, y)\n",
    "        elif feature == 'density':\n",
    "            density = df['events'] * df['geohash'].map(user_counts)\n",
    "            x = density\n",
    "            y = df['shapley_value']\n",
    "            ax.scatter(x, y)\n",
    "        # Set title, with ground truth for RSRP value\n",
    "        if feature == 'value':\n",
    "            gt_val = val_fn.ground_truth.loc[\n",
    "                val_fn.ground_truth['geohash'] == row['target_geohash'], 'value'\n",
    "            ].iloc[0]\n",
    "            ax.set_title(f\"{row['target_geohash']} (GT: {gt_val:.2f})\")\n",
    "        else:\n",
    "            ax.set_title(row['target_geohash'])\n",
    "        ax.set_xlabel(xlabel)\n",
    "        if feature != 'cumulative_shapley':\n",
    "            ax.set_ylabel('Shapley value')\n",
    "    fig.suptitle(title)\n",
    "    plt.tight_layout()\n",
    "    plt.show()"
   ]
  }
 ],
 "metadata": {
  "kernelspec": {
   "display_name": ".venv",
   "language": "python",
   "name": "python3"
  },
  "language_info": {
   "codemirror_mode": {
    "name": "ipython",
    "version": 3
   },
   "file_extension": ".py",
   "mimetype": "text/x-python",
   "name": "python",
   "nbconvert_exporter": "python",
   "pygments_lexer": "ipython3",
   "version": "3.13.0"
  }
 },
 "nbformat": 4,
 "nbformat_minor": 2
}
